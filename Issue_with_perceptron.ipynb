{
 "cells": [
  {
   "cell_type": "code",
   "execution_count": null,
   "metadata": {},
   "outputs": [
    {
     "name": "stdout",
     "output_type": "stream",
     "text": [
      "Number of iterations to convergence: 3116\n"
     ]
    }
   ],
   "source": [
    "import numpy as np\n",
    "import matplotlib.pyplot as plt\n",
    "def kernel_generator(v1,v2,kernel):\n",
    "    if kernel=='quadratic':\n",
    "        return (1+np.dot(v1,v2))**2\n",
    "    if kernel=='rbf':\n",
    "        s_value=1\n",
    "        return np.sum(np.exp(-np.absolute(np.square(v1-v2))/np.square(s_value)))\n",
    "\n",
    "def kernel_perceptron_train(data,kernel):\n",
    "    done=False;x=data[:,0:2];y=data[:,2];n,d=x.shape;alpha=np.zeros(n);b=0;k=np.zeros((n,n))\n",
    "    if kernel=='quadratic':\n",
    "        for i in range(n):\n",
    "            for j in range(n):\n",
    "                k[i,j]=kernel_generator(x[i,:],x[j,:],kernel='quadratic');\n",
    "    if kernel=='rbf':\n",
    "        for i in range(n):\n",
    "            for j in range(n):\n",
    "                k[i,j]=kernel_generator(x[i,:],x[j,:],kernel='rbf')\n",
    "    i=0\n",
    "    np.random.seed(None)\n",
    "    while not(done):\n",
    "        done=True\n",
    "        I=np.random.permutation(n)\n",
    "        for j in I:\n",
    "            if np.sign(np.dot(alpha*y,k[j,:])+b)!=y[j]:\n",
    "                alpha[j]+=1\n",
    "                b+=y[j]\n",
    "                done=False\n",
    "        if not(done):\n",
    "            i+=1\n",
    "        else:\n",
    "            print('Number of iterations to convergence:',i)\n",
    "    return alpha,b,k\n",
    "\n",
    "def kernel_perceptron_predict(alpha,b,data,kernel,pt):\n",
    "    y=data[:,2]\n",
    "    x=data[:,0:2]\n",
    "    n=len(x)\n",
    "    k=np.zeros(n)\n",
    "    for i in range(n):\n",
    "        k[i]=kernel_generator(x[i,:],pt,kernel)\n",
    "    pred_value=np.sign(np.dot(alpha*y,k))\n",
    "    return pred_value\n",
    "\n",
    "def plot_perceptron(data,kernel):\n",
    "    x=data[:,0:2];y=data[:,2];\n",
    "    alpha,b,kernel=kernel_perceptron_train(data,kernel)\n",
    "    x1min=np.sum((min(x[:,0]),-1));x1max=np.sum((max(x[:,1]),1));x2min=np.sum((min(x[:,1]),-1));x2max=np.sum((max(x[:,1]),1))\n",
    "    plt.xlim(x1min,x1max);plt.ylim(x2min,x2max)\n",
    "    plt.plot(x[y==1,0],x[y==1,1],'ro')\n",
    "    plt.plot(x[y==-1,0],x[y==-1,1],'k^')\n",
    "    grid_space=0.05\n",
    "    xx1,xx2=np.meshgrid(np.arange(x1min,x1max,grid_space),np.arange(x2min,x2max,grid_space))\n",
    "    grid=np.c_[xx1.ravel(),xx2.ravel()]\n",
    "    Z=np.array([kernel_perceptron_predict(alpha,b,data,'quadratic',pt) for pt in grid])\n",
    "    Z=np.reshape(Z,xx1.shape)\n",
    "    plt.pcolormesh(xx1,xx2,Z,cmap=plt.cm.PRGn,vmin=-3,vmax=3)\n",
    "    plt.show()\n",
    "    \n",
    "data=np.loadtxt('data5.txt')\n",
    "plot_perceptron(data,kernel='quadratic')"
   ]
  }
 ],
 "metadata": {
  "kernelspec": {
   "display_name": "Python 3",
   "language": "python",
   "name": "python3"
  },
  "language_info": {
   "codemirror_mode": {
    "name": "ipython",
    "version": 3
   },
   "file_extension": ".py",
   "mimetype": "text/x-python",
   "name": "python",
   "nbconvert_exporter": "python",
   "pygments_lexer": "ipython3",
   "version": "3.7.0"
  }
 },
 "nbformat": 4,
 "nbformat_minor": 2
}
